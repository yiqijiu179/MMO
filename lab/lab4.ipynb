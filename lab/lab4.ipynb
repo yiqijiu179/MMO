{
 "cells": [
  {
   "cell_type": "code",
   "execution_count": 1,
   "id": "9a26819d",
   "metadata": {},
   "outputs": [],
   "source": [
    "try:\n",
    "    import lspi\n",
    "except ImportError:\n",
    "    !pip install git+https://github.com/qdevpsi3/rl-lspi.git\n",
    "    import lspi"
   ]
  },
  {
   "cell_type": "code",
   "execution_count": 2,
   "id": "06bbda67",
   "metadata": {},
   "outputs": [],
   "source": [
    "import numpy as np\n",
    "import random"
   ]
  },
  {
   "cell_type": "code",
   "execution_count": 3,
   "id": "0778d377",
   "metadata": {},
   "outputs": [],
   "source": [
    "def hamming(agent, optimal_policy):\n",
    "    nS = agent.env.observation_space.n\n",
    "    agent_policy = np.array([agent.predict(s) for s in range(nS)])\n",
    "    dist = np.sum(optimal_policy != agent_policy)\n",
    "    return dist"
   ]
  },
  {
   "cell_type": "code",
   "execution_count": 4,
   "id": "819d16d9",
   "metadata": {},
   "outputs": [
    {
     "name": "stdout",
     "output_type": "stream",
     "text": [
      "iteration = 00 - distance to optimal policy : 2\n",
      "iteration = 01 - distance to optimal policy : 1\n",
      "iteration = 02 - distance to optimal policy : 0\n",
      "iteration = 03 - distance to optimal policy : 0\n",
      "iteration = 04 - distance to optimal policy : 0\n",
      "iteration = 05 - distance to optimal policy : 0\n"
     ]
    }
   ],
   "source": [
    "# build the environment\n",
    "nS = 4\n",
    "env = lspi.envs.ChainWalkEnv(nS)\n",
    "\n",
    "# build the agent\n",
    "degree = 2\n",
    "preprocess_obs = lambda x: x + 1\n",
    "agent = lspi.agents.PolynomialAgent(env, degree, preprocess_obs)\n",
    "\n",
    "# build the trainer\n",
    "gamma = 0.9\n",
    "memory_size = 500\n",
    "memory_type = 'sample'\n",
    "eval_type = 'sherman_morrison'\n",
    "baseline = lspi.baselines.LSPolicyIteration(env, agent, gamma, memory_size,\n",
    "                                            memory_type, eval_type)\n",
    "\n",
    "# define optimal policy\n",
    "optimal_policy = np.array([1, 1, 0, 0])\n",
    "\n",
    "# build the memory\n",
    "baseline.init_memory()\n",
    "\n",
    "# run the algorithm\n",
    "n_iter = 5\n",
    "dist = hamming(agent, optimal_policy)\n",
    "print('iteration = {:02d} - distance to optimal policy : {}'.format(0, dist))\n",
    "for it in range(1, n_iter + 1):\n",
    "    baseline.train_step()\n",
    "    dist = hamming(agent, optimal_policy)\n",
    "    print('iteration = {:02d} - distance to optimal policy : {}'.format(\n",
    "        it, dist))"
   ]
  },
  {
   "cell_type": "code",
   "execution_count": null,
   "id": "2b06b787",
   "metadata": {},
   "outputs": [],
   "source": []
  }
 ],
 "metadata": {
  "kernelspec": {
   "display_name": "Python 3 (ipykernel)",
   "language": "python",
   "name": "python3"
  },
  "language_info": {
   "codemirror_mode": {
    "name": "ipython",
    "version": 3
   },
   "file_extension": ".py",
   "mimetype": "text/x-python",
   "name": "python",
   "nbconvert_exporter": "python",
   "pygments_lexer": "ipython3",
   "version": "3.9.13"
  }
 },
 "nbformat": 4,
 "nbformat_minor": 5
}
