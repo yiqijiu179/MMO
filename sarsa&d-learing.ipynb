{
 "cells": [
  {
   "cell_type": "code",
   "execution_count": 2,
   "id": "ccacc1c0",
   "metadata": {},
   "outputs": [
    {
     "name": "stdout",
     "output_type": "stream",
     "text": [
      "Defaulting to user installation because normal site-packages is not writeable\n",
      "Collecting gymnasium\n",
      "  Downloading gymnasium-0.28.1-py3-none-any.whl (925 kB)\n",
      "     -------------------------------------- 925.5/925.5 kB 1.4 MB/s eta 0:00:00\n",
      "Collecting jax-jumpy>=1.0.0\n",
      "  Downloading jax_jumpy-1.0.0-py3-none-any.whl (20 kB)\n",
      "Requirement already satisfied: cloudpickle>=1.2.0 in c:\\users\\dell\\appdata\\roaming\\python\\python39\\site-packages (from gymnasium) (1.2.2)\n",
      "Requirement already satisfied: typing-extensions>=4.3.0 in d:\\anaconda\\lib\\site-packages (from gymnasium) (4.3.0)\n",
      "Requirement already satisfied: numpy>=1.21.0 in c:\\users\\dell\\appdata\\roaming\\python\\python39\\site-packages (from gymnasium) (1.24.2)\n",
      "Requirement already satisfied: importlib-metadata>=4.8.0 in d:\\anaconda\\lib\\site-packages (from gymnasium) (4.11.3)\n",
      "Collecting farama-notifications>=0.0.1\n",
      "  Downloading Farama_Notifications-0.0.4-py3-none-any.whl (2.5 kB)\n",
      "Requirement already satisfied: zipp>=0.5 in d:\\anaconda\\lib\\site-packages (from importlib-metadata>=4.8.0->gymnasium) (3.8.0)\n",
      "Installing collected packages: farama-notifications, jax-jumpy, gymnasium\n",
      "Successfully installed farama-notifications-0.0.4 gymnasium-0.28.1 jax-jumpy-1.0.0\n",
      "Note: you may need to restart the kernel to use updated packages.\n"
     ]
    }
   ],
   "source": [
    "pip install gymnasium"
   ]
  },
  {
   "cell_type": "code",
   "execution_count": 3,
   "id": "c4125859",
   "metadata": {},
   "outputs": [],
   "source": [
    "import gymnasium as gym\n",
    "import numpy as np\n",
    "import random\n",
    "from collections import defaultdict\n",
    "import matplotlib.pyplot as plt"
   ]
  },
  {
   "cell_type": "code",
   "execution_count": null,
   "id": "78f1459c",
   "metadata": {},
   "outputs": [],
   "source": [
    "Q-learning"
   ]
  },
  {
   "cell_type": "code",
   "execution_count": 4,
   "id": "04a4d4b1",
   "metadata": {},
   "outputs": [],
   "source": [
    "env = gym.make('Blackjack-v1')\n",
    "\n",
    "action_space_size = env.action_space.n\n",
    "\n",
    "num_episodes = 50000\n",
    "\n",
    "learning_rate = 0.1\n",
    "discount_rate = 0.95\n",
    "\n",
    "epsilon_start = 1\n",
    "epsilon_end = 0.001\n",
    "decay_factor = (epsilon_end/epsilon_start)**(1/num_episodes)"
   ]
  },
  {
   "cell_type": "code",
   "execution_count": 5,
   "id": "dc2c609e",
   "metadata": {},
   "outputs": [],
   "source": [
    "def choose_action(q_table, state: tuple[int, int, bool]) -> int:\n",
    "    if random.uniform(0,1) > epsilon:\n",
    "        return (int(np.argmax(q_table[state])))\n",
    "    else:\n",
    "        return (env.action_space.sample())"
   ]
  },
  {
   "cell_type": "code",
   "execution_count": 6,
   "id": "945f4d72",
   "metadata": {},
   "outputs": [],
   "source": [
    "q_table_Q = defaultdict(lambda: np.zeros(action_space_size))\n",
    "rewards_list_Q = []\n",
    "epsilon = epsilon_start\n",
    "\n",
    "for episode in range(num_episodes):\n",
    "    state, info = env.reset()\n",
    "    done = False\n",
    "    rewards_current_episode = 0\n",
    "    \n",
    "    while not done:       \n",
    "        action = choose_action(q_table_Q, state)\n",
    "\n",
    "        new_state, reward, terminated, truncated, info = env.step(action)\n",
    "        done = terminated or truncated\n",
    "        \n",
    "        q_table_Q[state][action] = q_table_Q[state][action] + learning_rate*(reward + discount_rate*int(np.argmax(q_table_Q[new_state])) - q_table_Q[state][action])\n",
    "        state = new_state\n",
    "        rewards_current_episode += reward\n",
    "        \n",
    "        if done: break\n",
    "            \n",
    "    epsilon = epsilon*decay_factor\n",
    "    rewards_list_Q.append(rewards_current_episode)  \n",
    "env.close()"
   ]
  },
  {
   "cell_type": "code",
   "execution_count": null,
   "id": "98301f07",
   "metadata": {},
   "outputs": [],
   "source": [
    "sarsa"
   ]
  },
  {
   "cell_type": "code",
   "execution_count": 7,
   "id": "dd8f2314",
   "metadata": {},
   "outputs": [],
   "source": [
    "q_table_S = defaultdict(lambda: np.zeros(action_space_size))\n",
    "rewards_list_S = []\n",
    "epsilon = epsilon_start\n",
    "\n",
    "for episode in range(num_episodes):\n",
    "    state, info = env.reset()\n",
    "    done = False\n",
    "    rewards_current_episode = 0\n",
    "    action = choose_action(q_table_S, state)\n",
    "    \n",
    "    while not done:\n",
    "        new_state, reward, terminated, truncated, info = env.step(action)\n",
    "        done = terminated or truncated\n",
    "\n",
    "        next_action = choose_action(q_table_S, new_state) \n",
    "\n",
    "        q_table_S[state][action] = q_table_S[state][action] + learning_rate*(reward + discount_rate*q_table_S[new_state][next_action] - q_table_S[state][action])\n",
    "        state = new_state\n",
    "        action = next_action\n",
    "        \n",
    "        rewards_current_episode += reward\n",
    "            \n",
    "    epsilon = epsilon*decay_factor\n",
    "    rewards_list_S.append(rewards_current_episode) \n",
    "env.close()"
   ]
  },
  {
   "cell_type": "code",
   "execution_count": 8,
   "id": "b3f81d65",
   "metadata": {},
   "outputs": [
    {
     "name": "stdout",
     "output_type": "stream",
     "text": [
      "Q-learning:\n",
      "Win percentage:  0.40486\n",
      "Loss percentage:  0.51618\n",
      "Average reward per game:  -0.11132\n",
      "\n",
      "SARSA: \n",
      "Win percentage:  0.36686\n",
      "Loss percentage:  0.56098\n",
      "Average reward per game:  -0.19412\n"
     ]
    }
   ],
   "source": [
    "print(\"Q-learning:\")\n",
    "rewards_list_Q = np.array(rewards_list_Q)\n",
    "wins_Q = np.count_nonzero(rewards_list_Q == 1.0)\n",
    "print(\"Win percentage: \", wins_Q/num_episodes)\n",
    "\n",
    "losses_Q = np.count_nonzero(rewards_list_Q == -1.0)\n",
    "print(\"Loss percentage: \", losses_Q/num_episodes)\n",
    "\n",
    "average_reward_Q = rewards_list_Q.sum()/num_episodes\n",
    "print(\"Average reward per game: \", average_reward_Q)\n",
    "\n",
    "print(\"\\nSARSA: \")\n",
    "rewards_list_S = np.array(rewards_list_S)\n",
    "wins_S = np.count_nonzero(rewards_list_S == 1.0)\n",
    "print(\"Win percentage: \", wins_S/num_episodes)\n",
    "\n",
    "losses_S = np.count_nonzero(rewards_list_S == -1.0)\n",
    "print(\"Loss percentage: \", losses_S/num_episodes)\n",
    "\n",
    "average_reward_S = rewards_list_S.sum()/num_episodes\n",
    "print(\"Average reward per game: \", average_reward_S)"
   ]
  },
  {
   "cell_type": "code",
   "execution_count": 9,
   "id": "3aa55142",
   "metadata": {},
   "outputs": [],
   "source": [
    "def moving_average(scores, window_size):\n",
    "    moving_average = []\n",
    "    i=0\n",
    "    while i < len(scores) - window_size+1:\n",
    "        window = scores[i: i+window_size]\n",
    "        window_average = round(sum(window)/window_size, 2)\n",
    "        moving_average.append(window_average)\n",
    "        i += 1\n",
    "    return moving_average    "
   ]
  },
  {
   "cell_type": "code",
   "execution_count": 10,
   "id": "02381065",
   "metadata": {},
   "outputs": [
    {
     "data": {
      "image/png": "[encoded data removed]",
      "text/plain": [
       "<Figure size 640x480 with 1 Axes>"
      ]
     },
     "metadata": {},
     "output_type": "display_data"
    }
   ],
   "source": [
    "moving_average_Q = moving_average(rewards_list_Q, 5000)\n",
    "moving_average_S = moving_average(rewards_list_S, 5000)\n",
    "\n",
    "plt.plot(moving_average_Q)\n",
    "plt.plot(moving_average_S)\n",
    "plt.xlabel(\"Iteration\")\n",
    "plt.ylabel(\"Average reward\")\n",
    "plt.title(\"Moving Average Reward\")\n",
    "plt.legend(['Q-learning', 'SARSA'])\n",
    "plt.show()"
   ]
  },
  {
   "cell_type": "code",
   "execution_count": null,
   "id": "f2718514",
   "metadata": {},
   "outputs": [],
   "source": []
  }
 ],
 "metadata": {
  "kernelspec": {
   "display_name": "Python 3 (ipykernel)",
   "language": "python",
   "name": "python3"
  },
  "language_info": {
   "codemirror_mode": {
    "name": "ipython",
    "version": 3
   },
   "file_extension": ".py",
   "mimetype": "text/x-python",
   "name": "python",
   "nbconvert_exporter": "python",
   "pygments_lexer": "ipython3",
   "version": "3.9.13"
  }
 },
 "nbformat": 4,
 "nbformat_minor": 5
}
